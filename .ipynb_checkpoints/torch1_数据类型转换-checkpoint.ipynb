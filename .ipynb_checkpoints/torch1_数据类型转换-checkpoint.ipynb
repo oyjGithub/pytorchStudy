{
 "cells": [
  {
   "cell_type": "code",
   "execution_count": 1,
   "id": "60ac438d",
   "metadata": {},
   "outputs": [],
   "source": [
    "import torch"
   ]
  },
  {
   "cell_type": "code",
   "execution_count": 3,
   "id": "2efcb0cf",
   "metadata": {},
   "outputs": [
    {
     "data": {
      "text/plain": [
       "tensor([[1.0102e-38, 1.0561e-38, 1.0469e-38, 1.0653e-38, 1.0469e-38],\n",
       "        [1.0010e-38, 1.0102e-38, 9.0919e-39, 1.0102e-38, 8.9082e-39],\n",
       "        [8.4489e-39, 9.6429e-39, 8.4490e-39, 9.6429e-39, 9.2755e-39],\n",
       "        [1.0286e-38, 9.0919e-39, 8.9082e-39, 9.2755e-39, 8.4490e-39],\n",
       "        [1.0194e-38, 9.0919e-39, 8.4490e-39, 1.0745e-38, 1.0653e-38]])"
      ]
     },
     "execution_count": 3,
     "metadata": {},
     "output_type": "execute_result"
    }
   ],
   "source": [
    "x1 = torch.empty(5,5)\n",
    "x1"
   ]
  },
  {
   "cell_type": "code",
   "execution_count": 4,
   "id": "9c1b9ea2",
   "metadata": {},
   "outputs": [
    {
     "name": "stdout",
     "output_type": "stream",
     "text": [
      "tensor([[0.7196, 0.5315, 0.8298, 0.2530, 0.5761],\n",
      "        [0.5240, 0.7537, 0.0277, 0.6419, 0.4086],\n",
      "        [0.5353, 0.3954, 0.6953, 0.8302, 0.9504],\n",
      "        [0.8476, 0.7785, 0.5394, 0.2358, 0.7680],\n",
      "        [0.7955, 0.2477, 0.9943, 0.5921, 0.5782]])\n",
      "tensor([[-1.6130, -0.8149,  0.7703],\n",
      "        [-0.6725, -0.7461,  1.3334],\n",
      "        [-1.1310,  0.5145, -0.8650]])\n"
     ]
    }
   ],
   "source": [
    "x2 = torch.rand(5,5)\n",
    "x3 = torch.randn(3,3)\n",
    "print(x2)\n",
    "print(x3)"
   ]
  },
  {
   "cell_type": "code",
   "execution_count": 5,
   "id": "3ab3b0d9",
   "metadata": {},
   "outputs": [
    {
     "name": "stdout",
     "output_type": "stream",
     "text": [
      "torch.Size([2, 2, 2])\n"
     ]
    }
   ],
   "source": [
    "x4 = torch.zeros(2,2,2,dtype=torch.float32)\n",
    "print(x4.shape)"
   ]
  },
  {
   "cell_type": "code",
   "execution_count": 6,
   "id": "50e8986a",
   "metadata": {},
   "outputs": [],
   "source": [
    "x5 = torch.Tensor([3.,21])"
   ]
  },
  {
   "cell_type": "code",
   "execution_count": 7,
   "id": "25a79f38",
   "metadata": {},
   "outputs": [
    {
     "name": "stdout",
     "output_type": "stream",
     "text": [
      "tensor([[0., 0., 0.],\n",
      "        [0., 0., 0.],\n",
      "        [0., 0., 0.],\n",
      "        [0., 0., 0.],\n",
      "        [0., 0., 0.]], dtype=torch.float64)\n",
      "tensor([[-0.7191, -0.5205,  1.6145],\n",
      "        [-0.4553, -0.4079, -1.2604],\n",
      "        [ 0.6658,  0.8261, -1.3641],\n",
      "        [ 1.6916, -0.3997,  0.4714],\n",
      "        [ 0.8641,  0.5390, -0.7922]])\n"
     ]
    }
   ],
   "source": [
    "x = x4.new_zeros(5, 3, dtype=torch.double)      # new_* methods take in sizes\n",
    "print(x)\n",
    "x = torch.randn_like(x, dtype=torch.float)    # 重载 dtype!\n",
    "print(x)                                      # 结果size一致"
   ]
  },
  {
   "cell_type": "code",
   "execution_count": 8,
   "id": "e6823885",
   "metadata": {},
   "outputs": [
    {
     "data": {
      "text/plain": [
       "tensor([[0., 0., 0.],\n",
       "        [0., 0., 0.],\n",
       "        [0., 0., 0.],\n",
       "        [0., 0., 0.],\n",
       "        [0., 0., 0.]], dtype=torch.float64)"
      ]
     },
     "execution_count": 8,
     "metadata": {},
     "output_type": "execute_result"
    }
   ],
   "source": [
    "x = torch.zeros_like(x,dtype=torch.float64)\n",
    "x"
   ]
  },
  {
   "cell_type": "code",
   "execution_count": 14,
   "id": "6eae62d8",
   "metadata": {},
   "outputs": [
    {
     "name": "stdout",
     "output_type": "stream",
     "text": [
      "tensor([[2., 2., 2.],\n",
      "        [2., 2., 2.],\n",
      "        [2., 2., 2.]])\n",
      "tensor([[2., 2., 2.],\n",
      "        [2., 2., 2.],\n",
      "        [2., 2., 2.]])\n",
      "tensor([[2., 2., 2.],\n",
      "        [2., 2., 2.],\n",
      "        [2., 2., 2.]])\n"
     ]
    }
   ],
   "source": [
    "# 加法操作\n",
    "a = torch.ones(3,3,dtype=torch.float)\n",
    "b = torch.ones(3,3,dtype=torch.float)\n",
    "result = torch.empty(3,3)\n",
    "print(a+b)\n",
    "print(torch.add(a,b))\n",
    "print(torch.add(a,b,out=result))"
   ]
  },
  {
   "cell_type": "code",
   "execution_count": 15,
   "id": "ce6e0aaa",
   "metadata": {},
   "outputs": [
    {
     "name": "stdout",
     "output_type": "stream",
     "text": [
      "tensor([[0., 0., 0.],\n",
      "        [0., 0., 0.],\n",
      "        [0., 0., 0.]])\n"
     ]
    }
   ],
   "source": [
    "# 减法操作\n",
    "a = torch.ones(3,3,dtype=torch.float)\n",
    "b = torch.ones(3,3,dtype=torch.float)\n",
    "print(a-b)"
   ]
  },
  {
   "cell_type": "code",
   "execution_count": 16,
   "id": "837d87d4",
   "metadata": {},
   "outputs": [
    {
     "name": "stdout",
     "output_type": "stream",
     "text": [
      "tensor([[2., 2., 2.],\n",
      "        [2., 2., 2.],\n",
      "        [2., 2., 2.]])\n"
     ]
    }
   ],
   "source": [
    "# adds a to b\n",
    "b.add_(a)\n",
    "print(b)"
   ]
  },
  {
   "cell_type": "markdown",
   "id": "e877ea09",
   "metadata": {},
   "source": [
    "也可以使用像标准的NumPy一样的各种索引操作"
   ]
  },
  {
   "cell_type": "code",
   "execution_count": 18,
   "id": "58495c5c",
   "metadata": {},
   "outputs": [
    {
     "name": "stdout",
     "output_type": "stream",
     "text": [
      "torch.Size([4, 4]) torch.Size([16]) torch.Size([2, 8])\n"
     ]
    }
   ],
   "source": [
    "# 改变形状：如果想改变形状，可以使用torch.view\n",
    "x = torch.randn(4, 4)\n",
    "y = x.view(16)\n",
    "z = x.view(-1, 8)  # the size -1 is inferred from other dimensions\n",
    "print(x.size(), y.size(), z.shape)"
   ]
  },
  {
   "cell_type": "code",
   "execution_count": 19,
   "id": "27c71979",
   "metadata": {},
   "outputs": [
    {
     "name": "stdout",
     "output_type": "stream",
     "text": [
      "tensor([0.1820])\n",
      "0.18203748762607574\n"
     ]
    }
   ],
   "source": [
    "# 仅包含一个元素的tensor，可以使用.item()来得到对应的python数值\n",
    "x = torch.randn(1)\n",
    "print(x)\n",
    "print(x.item())"
   ]
  },
  {
   "cell_type": "code",
   "execution_count": 23,
   "id": "120a2227",
   "metadata": {},
   "outputs": [
    {
     "name": "stdout",
     "output_type": "stream",
     "text": [
      "[[ 0.56472796  0.53641146 -1.2487255 ]\n",
      " [ 0.17122318 -0.01617988  0.22807984]\n",
      " [-1.6889517   0.43285814 -0.11264174]]\n",
      "tensor([[-1.8403, -0.7449,  0.2764],\n",
      "        [-0.7526, -0.2362, -0.0962],\n",
      "        [ 1.6203, -1.3154,  0.1863]])\n"
     ]
    }
   ],
   "source": [
    "import numpy as np\n",
    "# tensor numpy 互转\n",
    "a = torch.randn(3,3)\n",
    "b = np.random.randn(3,3)\n",
    "c = a.numpy().astype(np.float32)\n",
    "d = torch.from_numpy(b).float()\n",
    "print(c)\n",
    "print(d)"
   ]
  },
  {
   "cell_type": "code",
   "execution_count": 31,
   "id": "7a3448d9",
   "metadata": {},
   "outputs": [
    {
     "name": "stdout",
     "output_type": "stream",
     "text": [
      "tensor([[1, 1, 1],\n",
      "        [1, 1, 1],\n",
      "        [1, 1, 1]], dtype=torch.int32)\n",
      "tensor([[1., 1., 1.],\n",
      "        [1., 1., 1.],\n",
      "        [1., 1., 1.]])\n"
     ]
    }
   ],
   "source": [
    "a = torch.ones(3,3,dtype=torch.int)\n",
    "print(a)\n",
    "b = torch.randn(3,3)\n",
    "c = a.type_as(b)\n",
    "print(c)"
   ]
  },
  {
   "cell_type": "markdown",
   "id": "dcd5e343",
   "metadata": {},
   "source": [
    "tensor 张量类型转换\n",
    "tensor = torch.Tensor(3, 5)\n",
    "\n",
    "### torch.long() 将tensor投射为long类型\n",
    "newtensor = tensor.long()\n",
    "\n",
    "### torch.half()将tensor投射为半精度浮点类型\n",
    "newtensor = tensor.half()\n",
    "\n",
    "### torch.int()将该tensor投射为int类型\n",
    "newtensor = tensor.int()\n",
    "\n",
    "### torch.double()将该tensor投射为double类型\n",
    "newtensor = tensor.double()\n",
    "\n",
    "### torch.float()将该tensor投射为float类型\n",
    "newtensor = tensor.float()\n",
    "\n",
    "### torch.char()将该tensor投射为char类型\n",
    "newtensor = tensor.char()\n",
    "\n",
    "### torch.byte()将该tensor投射为byte类型\n",
    "newtensor = tensor.byte()\n",
    "\n",
    "### torch.short()将该tensor投射为short类型\n",
    "newtensor = tensor.short()\n",
    "\n",
    "### type_as() 将张量转换成指定类型张量\n",
    "a.type_as(b) a 转换为 b 类型的数据"
   ]
  },
  {
   "cell_type": "code",
   "execution_count": 25,
   "id": "477e433b",
   "metadata": {},
   "outputs": [
    {
     "name": "stdout",
     "output_type": "stream",
     "text": [
      "[[1.0, 1.0, 1.0, 1.0, 1.0]]\n",
      "tensor([1., 2., 3., 4., 5.])\n"
     ]
    }
   ],
   "source": [
    "# tensor张量与list相互转换\n",
    "a=torch.ones([1,5])\n",
    "b=list(range(1,6))\n",
    "c = a.tolist()\n",
    "d = torch.Tensor(b)\n",
    "print(c)\n",
    "print(d)"
   ]
  },
  {
   "cell_type": "code",
   "execution_count": 32,
   "id": "e0693e4e",
   "metadata": {},
   "outputs": [],
   "source": [
    "# 当GPU可用时,我们可以运行以下代码\n",
    "# 我们将使用`torch.device`来将tensor移入和移出GPU\n",
    "if torch.cuda.is_available():\n",
    "    device = torch.device(\"cuda\")          # a CUDA device object\n",
    "    y = torch.ones_like(x, device=device)  # 直接在GPU上创建tensor\n",
    "    x = x.to(device)                       # 或者使用`.to(\"cuda\")`方法,或者直接x.cuda()\n",
    "    z = x + y\n",
    "    print(z)\n",
    "    print(z.to(\"cpu\", torch.double))       # `.to`也能在移动时改变dt"
   ]
  },
  {
   "cell_type": "markdown",
   "id": "cbc8f3b6",
   "metadata": {},
   "source": [
    "### 统计属性\n",
    "1.norm\n",
    "\n",
    "2.mean sum\n",
    "\n",
    "3.prod  张量积\n",
    "\n",
    "4.max,min,argmin,argmax\n",
    "\n",
    "5.kthvalue,topk   i = torch.kthvalue(x, k, n) 沿着n维度返回第k小的数据  ;返回输入数据中特定维度上的前k个最大的元素"
   ]
  },
  {
   "cell_type": "code",
   "execution_count": 34,
   "id": "1ab0be9e",
   "metadata": {},
   "outputs": [
    {
     "data": {
      "text/plain": [
       "tensor([[-0.4817, -1.0409, -0.5192, -2.6617],\n",
       "        [-0.3083,  0.2992, -1.7176,  0.3300],\n",
       "        [-0.6990,  1.1466, -1.4636,  1.7089],\n",
       "        [-1.8711, -1.2279, -1.6760,  0.2288]])"
      ]
     },
     "execution_count": 34,
     "metadata": {},
     "output_type": "execute_result"
    }
   ],
   "source": [
    "data = torch.randn(4,4)\n",
    "data"
   ]
  },
  {
   "attachments": {
    "image.png": {
     "image/png": "[encoded data removed]"
    }
   },
   "cell_type": "markdown",
   "id": "23a6cb7f",
   "metadata": {},
   "source": [
    "p (int, float, inf, -inf, 'fro', 'nuc', optional)：范数计算中的幂指数值。默认为'fro'\n",
    "![image.png](attachment:image.png)"
   ]
  },
  {
   "cell_type": "code",
   "execution_count": 42,
   "id": "c11d18ae",
   "metadata": {},
   "outputs": [
    {
     "data": {
      "text/plain": [
       "tensor(5.1623)"
      ]
     },
     "execution_count": 42,
     "metadata": {},
     "output_type": "execute_result"
    }
   ],
   "source": [
    "# torch.norm(input, p='fro', dim=None, keepdim=False, out=None, dtype=None)\n",
    "# 返回所给tensor的矩阵范数或向量范数,fro 为 f-范数；默认；\n",
    "data_norm = data.norm(p='fro')\n",
    "data_norm"
   ]
  },
  {
   "cell_type": "code",
   "execution_count": 47,
   "id": "5911199f",
   "metadata": {},
   "outputs": [],
   "source": [
    "means = data.mean()\n",
    "total = data.sum()\n",
    "max_val = data.max()\n",
    "dim1_max_val = data.max(1)\n",
    "# min,argmin,argmax"
   ]
  },
  {
   "cell_type": "code",
   "execution_count": 48,
   "id": "b99bbd0a",
   "metadata": {},
   "outputs": [
    {
     "name": "stdout",
     "output_type": "stream",
     "text": [
      "torch.return_types.max(\n",
      "values=tensor([-0.4817,  0.3300,  1.7089,  0.2288]),\n",
      "indices=tensor([0, 3, 3, 3]))\n"
     ]
    }
   ],
   "source": [
    "print(dim1_max_val)"
   ]
  },
  {
   "cell_type": "code",
   "execution_count": 49,
   "id": "2861d639",
   "metadata": {},
   "outputs": [
    {
     "data": {
      "text/plain": [
       "torch.return_types.topk(\n",
       "values=tensor([[-0.4817, -0.5192, -1.0409],\n",
       "        [ 0.3300,  0.2992, -0.3083],\n",
       "        [ 1.7089,  1.1466, -0.6990],\n",
       "        [ 0.2288, -1.2279, -1.6760]]),\n",
       "indices=tensor([[0, 2, 1],\n",
       "        [3, 1, 0],\n",
       "        [3, 1, 0],\n",
       "        [3, 1, 2]]))"
      ]
     },
     "execution_count": 49,
     "metadata": {},
     "output_type": "execute_result"
    }
   ],
   "source": [
    "data.topk(k = 3,dim=1)"
   ]
  },
  {
   "cell_type": "code",
   "execution_count": null,
   "id": "54783dbe",
   "metadata": {},
   "outputs": [],
   "source": []
  }
 ],
 "metadata": {
  "kernelspec": {
   "display_name": "Python 3",
   "language": "python",
   "name": "python3"
  },
  "language_info": {
   "codemirror_mode": {
    "name": "ipython",
    "version": 3
   },
   "file_extension": ".py",
   "mimetype": "text/x-python",
   "name": "python",
   "nbconvert_exporter": "python",
   "pygments_lexer": "ipython3",
   "version": "3.8.3"
  }
 },
 "nbformat": 4,
 "nbformat_minor": 5
}
